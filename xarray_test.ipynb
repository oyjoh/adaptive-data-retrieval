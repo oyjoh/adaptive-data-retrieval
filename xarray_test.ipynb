{
 "cells": [
  {
   "cell_type": "markdown",
   "metadata": {},
   "source": [
    "#### xarray dim reduction"
   ]
  },
  {
   "cell_type": "code",
   "execution_count": 16,
   "metadata": {},
   "outputs": [],
   "source": [
    "import xarray as xr\n",
    "import numpy as np\n",
    "import pandas as pd\n",
    "\n",
    "\n",
    "def ressample(arr, N):\n",
    "    A = []\n",
    "    for v in np.vsplit(arr, arr.shape[0] // N):\n",
    "        A.extend([*np.hsplit(v, arr.shape[0] // N)])\n",
    "    return np.array(A)\n"
   ]
  },
  {
   "cell_type": "code",
   "execution_count": 57,
   "metadata": {},
   "outputs": [
    {
     "name": "stdout",
     "output_type": "stream",
     "text": [
      "<xarray.DataArray (dim_0: 5, dim_1: 9)>\n",
      "array([[8, 7, 8, 9, 2, 4, 2, 2, 6],\n",
      "       [9, 4, 1, 3, 2, 9, 9, 2, 5],\n",
      "       [6, 4, 2, 9, 4, 1, 2, 4, 8],\n",
      "       [1, 6, 3, 3, 7, 2, 4, 7, 8],\n",
      "       [4, 2, 9, 7, 9, 2, 9, 3, 5]])\n",
      "Dimensions without coordinates: dim_0, dim_1\n",
      "(5, 9)\n",
      "4\n",
      "2\n",
      "<xarray.DataArray (dim_0: 2, dim_1: 4)>\n",
      "array([[8, 7, 8, 9],\n",
      "       [9, 4, 1, 3]])\n",
      "Dimensions without coordinates: dim_0, dim_1\n",
      "<xarray.DataArray (dim_0: 2, dim_1: 5)>\n",
      "array([[2, 4, 2, 2, 6],\n",
      "       [2, 9, 9, 2, 5]])\n",
      "Dimensions without coordinates: dim_0, dim_1\n",
      "<xarray.DataArray (dim_0: 3, dim_1: 4)>\n",
      "array([[6, 4, 2, 9],\n",
      "       [1, 6, 3, 3],\n",
      "       [4, 2, 9, 7]])\n",
      "Dimensions without coordinates: dim_0, dim_1\n",
      "<xarray.DataArray (dim_0: 3, dim_1: 5)>\n",
      "array([[4, 1, 2, 4, 8],\n",
      "       [7, 2, 4, 7, 8],\n",
      "       [9, 2, 9, 3, 5]])\n",
      "Dimensions without coordinates: dim_0, dim_1\n"
     ]
    }
   ],
   "source": [
    "ds = xr.DataArray(np.random.randint(1, 10, size=(5, 9)))\n",
    "print(ds)\n",
    "print(ds.shape)\n",
    "mid_x = (ds.shape[1] // 2)\n",
    "mid_y = (ds.shape[0] // 2)\n",
    "print(mid_x)\n",
    "print(mid_y)\n",
    "c_1 = ds[:mid_y, :mid_x]\n",
    "c_2 = ds[:mid_y, mid_x:]\n",
    "c_3 = ds[mid_y:, :mid_x]\n",
    "c_4 = ds[mid_y:, mid_x:]\n",
    "print(c_1)\n",
    "print(c_2)\n",
    "print(c_3)\n",
    "print(c_4)\n",
    "\n",
    "\n",
    "#small_ds = ds[::2, ::2]\n",
    "\n",
    "\n",
    "# print(small_ds)\n",
    "\n",
    "#chunk_ds = ressample(ds, 3)\n",
    "# print(chunk_ds)\n",
    "# print(xr.DataArray(chunk_ds))\n",
    "# print(ds[1].size)\n"
   ]
  },
  {
   "cell_type": "code",
   "execution_count": null,
   "metadata": {},
   "outputs": [],
   "source": []
  }
 ],
 "metadata": {
  "interpreter": {
   "hash": "aebbdfc6aa06eaa162ce0fe2477883455d1cd47ed4782f83b429bbd98a6e3fd1"
  },
  "kernelspec": {
   "display_name": "Python 3.9.12 ('master-app')",
   "language": "python",
   "name": "python3"
  },
  "language_info": {
   "codemirror_mode": {
    "name": "ipython",
    "version": 3
   },
   "file_extension": ".py",
   "mimetype": "text/x-python",
   "name": "python",
   "nbconvert_exporter": "python",
   "pygments_lexer": "ipython3",
   "version": "3.9.12"
  },
  "orig_nbformat": 4
 },
 "nbformat": 4,
 "nbformat_minor": 2
}
