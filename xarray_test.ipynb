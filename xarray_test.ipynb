{
 "cells": [
  {
   "cell_type": "markdown",
   "metadata": {},
   "source": [
    "#### xarray dim reduction"
   ]
  },
  {
   "cell_type": "code",
   "execution_count": 16,
   "metadata": {},
   "outputs": [],
   "source": [
    "import xarray as xr\n",
    "import numpy as np\n",
    "import pandas as pd\n",
    "\n",
    "\n",
    "def ressample(arr, N):\n",
    "    A = []\n",
    "    for v in np.vsplit(arr, arr.shape[0] // N):\n",
    "        A.extend([*np.hsplit(v, arr.shape[0] // N)])\n",
    "    return np.array(A)\n"
   ]
  },
  {
   "cell_type": "code",
   "execution_count": 26,
   "metadata": {},
   "outputs": [
    {
     "name": "stdout",
     "output_type": "stream",
     "text": [
      "<xarray.DataArray (dim_0: 9, dim_1: 9)>\n",
      "array([[8, 2, 6, 8, 5, 3, 9, 7, 9],\n",
      "       [6, 2, 5, 8, 7, 2, 1, 7, 5],\n",
      "       [4, 2, 3, 2, 3, 9, 3, 7, 8],\n",
      "       [8, 6, 2, 3, 5, 7, 1, 2, 7],\n",
      "       [8, 3, 3, 9, 9, 8, 4, 8, 5],\n",
      "       [4, 2, 9, 8, 7, 9, 8, 9, 4],\n",
      "       [8, 2, 9, 1, 5, 5, 7, 2, 3],\n",
      "       [8, 9, 8, 2, 4, 4, 7, 4, 2],\n",
      "       [8, 1, 4, 8, 2, 2, 6, 2, 9]])\n",
      "Dimensions without coordinates: dim_0, dim_1\n",
      "<xarray.DataArray (dim_0: 5, dim_1: 5)>\n",
      "array([[8, 6, 5, 9, 9],\n",
      "       [4, 3, 3, 3, 8],\n",
      "       [8, 3, 9, 4, 5],\n",
      "       [8, 9, 5, 7, 3],\n",
      "       [8, 4, 2, 6, 9]])\n",
      "Dimensions without coordinates: dim_0, dim_1\n",
      "<xarray.DataArray (dim_0: 9, dim_1: 3, dim_2: 3)>\n",
      "array([[[8, 2, 6],\n",
      "        [6, 2, 5],\n",
      "        [4, 2, 3]],\n",
      "\n",
      "       [[8, 5, 3],\n",
      "        [8, 7, 2],\n",
      "        [2, 3, 9]],\n",
      "\n",
      "       [[9, 7, 9],\n",
      "        [1, 7, 5],\n",
      "        [3, 7, 8]],\n",
      "\n",
      "       [[8, 6, 2],\n",
      "        [8, 3, 3],\n",
      "        [4, 2, 9]],\n",
      "\n",
      "       [[3, 5, 7],\n",
      "        [9, 9, 8],\n",
      "        [8, 7, 9]],\n",
      "\n",
      "       [[1, 2, 7],\n",
      "        [4, 8, 5],\n",
      "        [8, 9, 4]],\n",
      "\n",
      "       [[8, 2, 9],\n",
      "        [8, 9, 8],\n",
      "        [8, 1, 4]],\n",
      "\n",
      "       [[1, 5, 5],\n",
      "        [2, 4, 4],\n",
      "        [8, 2, 2]],\n",
      "\n",
      "       [[7, 2, 3],\n",
      "        [7, 4, 2],\n",
      "        [6, 2, 9]]])\n",
      "Dimensions without coordinates: dim_0, dim_1, dim_2\n"
     ]
    }
   ],
   "source": [
    "ds = xr.DataArray(np.random.randint(1, 10, size=(9, 9)))\n",
    "print(ds)\n",
    "\n",
    "small_ds = ds[::2, ::2]\n",
    "print(small_ds)\n",
    "\n",
    "chunk_ds = ressample(ds, 3)\n",
    "#print(chunk_ds)\n",
    "print(xr.DataArray(chunk_ds))\n"
   ]
  }
 ],
 "metadata": {
  "interpreter": {
   "hash": "aebbdfc6aa06eaa162ce0fe2477883455d1cd47ed4782f83b429bbd98a6e3fd1"
  },
  "kernelspec": {
   "display_name": "Python 3.9.12 ('master-app')",
   "language": "python",
   "name": "python3"
  },
  "language_info": {
   "codemirror_mode": {
    "name": "ipython",
    "version": 3
   },
   "file_extension": ".py",
   "mimetype": "text/x-python",
   "name": "python",
   "nbconvert_exporter": "python",
   "pygments_lexer": "ipython3",
   "version": "3.9.12"
  },
  "orig_nbformat": 4
 },
 "nbformat": 4,
 "nbformat_minor": 2
}
