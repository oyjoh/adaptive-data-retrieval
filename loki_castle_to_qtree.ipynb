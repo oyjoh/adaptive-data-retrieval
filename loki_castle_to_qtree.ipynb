{
 "cells": [
  {
   "cell_type": "markdown",
   "metadata": {},
   "source": [
    "#### get dataframe"
   ]
  },
  {
   "cell_type": "code",
   "execution_count": 10,
   "metadata": {},
   "outputs": [],
   "source": [
    "from app.externalresources.reader_LokiCastle import ReaderLokiCastle\n",
    "\n",
    "r = ReaderLokiCastle()\n",
    "r.netcdf_to_dataarray()\n",
    "\n",
    "ds = r.get_dataarray()\n"
   ]
  },
  {
   "cell_type": "markdown",
   "metadata": {},
   "source": [
    "#### create quadtree"
   ]
  },
  {
   "cell_type": "code",
   "execution_count": 12,
   "metadata": {},
   "outputs": [
    {
     "name": "stdout",
     "output_type": "stream",
     "text": [
      "2\n",
      "4\n",
      "<xarray.DataArray 'z' (lat: 3205, lon: 12545)>\n",
      "[40206725 values with dtype=float32]\n",
      "Coordinates:\n",
      "  * lon      (lon) float64 8.146 8.146 8.146 8.147 ... 8.169 8.169 8.169 8.169\n",
      "  * lat      (lat) float64 73.56 73.56 73.56 73.56 ... 73.57 73.57 73.57 73.57\n",
      "Attributes:\n",
      "    long_name:     z\n",
      "    actual_range:  [-2458.27709961 -2303.90185547]\n",
      "<xarray.DataArray 'z' (lat: 1602, lon: 6272)>\n",
      "[10047744 values with dtype=float32]\n",
      "Coordinates:\n",
      "  * lon      (lon) float64 8.146 8.146 8.146 8.147 ... 8.158 8.158 8.158 8.158\n",
      "  * lat      (lat) float64 73.56 73.56 73.56 73.56 ... 73.57 73.57 73.57 73.57\n",
      "Attributes:\n",
      "    long_name:     z\n",
      "    actual_range:  [-2458.27709961 -2303.90185547]\n",
      "<xarray.DataArray 'z' (lat: 1603, lon: 6273)>\n",
      "[10055619 values with dtype=float32]\n",
      "Coordinates:\n",
      "  * lon      (lon) float64 8.158 8.158 8.158 8.158 ... 8.169 8.169 8.169 8.169\n",
      "  * lat      (lat) float64 73.57 73.57 73.57 73.57 ... 73.57 73.57 73.57 73.57\n",
      "Attributes:\n",
      "    long_name:     z\n",
      "    actual_range:  [-2458.27709961 -2303.90185547]\n"
     ]
    }
   ],
   "source": [
    "from app.externalresources.datastructures.quad_tree_simple import QuadTreeSimple\n",
    "\n",
    "tree = QuadTreeSimple(max_chunk_size=10, original_file_size=26,\n",
    "                      dataframe=ds, bounds=r.get_bounds())\n",
    "\n",
    "\n",
    "#small_ds.to_netcdf('testtest2.nc')\n",
    "tree.root.upper_left.ds.to_netcdf('c_1.nc')\n",
    "tree.root.upper_right.ds.to_netcdf('c_2.nc')\n",
    "tree.root.lower_left.ds.to_netcdf('c_3.nc')\n",
    "tree.root.lower_right.ds.to_netcdf('c_4.nc')\n",
    "\n",
    "print(tree.num_layers)\n",
    "print(tree.num_chunks_bottomlayer)\n",
    "print(tree.ds)\n",
    "print(tree.root.upper_left.ds)\n",
    "print(tree.root.lower_right.ds)\n"
   ]
  }
 ],
 "metadata": {
  "interpreter": {
   "hash": "aebbdfc6aa06eaa162ce0fe2477883455d1cd47ed4782f83b429bbd98a6e3fd1"
  },
  "kernelspec": {
   "display_name": "Python 3.9.12 ('master-app')",
   "language": "python",
   "name": "python3"
  },
  "language_info": {
   "codemirror_mode": {
    "name": "ipython",
    "version": 3
   },
   "file_extension": ".py",
   "mimetype": "text/x-python",
   "name": "python",
   "nbconvert_exporter": "python",
   "pygments_lexer": "ipython3",
   "version": "3.9.12"
  },
  "orig_nbformat": 4
 },
 "nbformat": 4,
 "nbformat_minor": 2
}
