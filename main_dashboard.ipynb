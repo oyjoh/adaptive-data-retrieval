{
 "cells": [
  {
   "cell_type": "markdown",
   "metadata": {},
   "source": [
    "#### Connect to API"
   ]
  },
  {
   "cell_type": "code",
   "execution_count": 6,
   "metadata": {},
   "outputs": [
    {
     "data": {
      "application/vnd.jupyter.widget-view+json": {
       "model_id": "fba75184743b41deafa94a296b1caa43",
       "version_major": 2,
       "version_minor": 0
      },
      "text/plain": [
       "interactive(children=(Dropdown(description='Select cached dataset', layout=Layout(width='70%'), options=(('GS1…"
      ]
     },
     "metadata": {},
     "output_type": "display_data"
    },
    {
     "data": {
      "application/vnd.jupyter.widget-view+json": {
       "model_id": "b95a5449e9be4f029b6dee44456ba1ba",
       "version_major": 2,
       "version_minor": 0
      },
      "text/plain": [
       "HBox(children=(Text(value='', description='NetCDF file', layout=Layout(width='70%'), placeholder='url', style=…"
      ]
     },
     "metadata": {},
     "output_type": "display_data"
    },
    {
     "data": {
      "application/vnd.jupyter.widget-view+json": {
       "model_id": "edd0f0c83b9f43e2a627866685719ffe",
       "version_major": 2,
       "version_minor": 0
      },
      "text/plain": [
       "Output()"
      ]
     },
     "metadata": {},
     "output_type": "display_data"
    }
   ],
   "source": [
    "import requests\n",
    "import ipywidgets\n",
    "\n",
    "base_url = 'http://127.0.0.1:5000'\n",
    "\n",
    "cached_datasets = requests.get(base_url + '/datasets').json()\n",
    "\n",
    "d_widget = ipywidgets.Dropdown(\n",
    "    options=[(elem['name'], elem['id']) for elem in cached_datasets],\n",
    "    description='Select cached dataset',\n",
    "    style={'description_width': '30%'},\n",
    "    layout=ipywidgets.Layout(width='70%'),\n",
    "    value=None)\n",
    "\n",
    "t_widget = ipywidgets.Text(\n",
    "    placeholder='url',\n",
    "    description='NetCDF file',\n",
    "    style={'description_width': '30%'},\n",
    "    layout=ipywidgets.Layout(width='70%')\n",
    ")\n",
    "submit_widget = ipywidgets.Button(\n",
    "    description='Submit',\n",
    "    tooltip='Submit'\n",
    ")\n",
    "clear_widget = ipywidgets.Button(\n",
    "    description='Clear',\n",
    "    tooltip='Clear'\n",
    ")\n",
    "\n",
    "\n",
    "dataset = 1\n",
    "txt = 'qw'\n",
    "\n",
    "\n",
    "output = ipywidgets.Output()\n",
    "def select_dataset(s):\n",
    "    if s != None:\n",
    "        global dataset\n",
    "        dataset = s\n",
    "        with output:\n",
    "            print('Dataset selected')\n",
    "\n",
    "def new_dataset(t):\n",
    "    global txt\n",
    "    txt = t_widget.value\n",
    "    with output:\n",
    "        print('Dataset selected')\n",
    "\n",
    "ipywidgets.interact(select_dataset, s=d_widget)\n",
    "submit_widget.on_click(new_dataset)\n",
    "display(ipywidgets.HBox((t_widget, submit_widget)), output)\n",
    "\n"
   ]
  },
  {
   "cell_type": "markdown",
   "metadata": {},
   "source": [
    "### work with the netCDF client-side"
   ]
  },
  {
   "cell_type": "code",
   "execution_count": 1,
   "metadata": {},
   "outputs": [
    {
     "name": "stdout",
     "output_type": "stream",
     "text": [
      "<xarray.DataArray 'z' (lat: 3205, lon: 12545)>\n",
      "[40206725 values with dtype=float32]\n",
      "Coordinates:\n",
      "  * lon      (lon) float64 8.146 8.146 8.146 8.147 ... 8.169 8.169 8.169 8.169\n",
      "  * lat      (lat) float64 73.56 73.56 73.56 73.56 ... 73.57 73.57 73.57 73.57\n",
      "Attributes:\n",
      "    long_name:     z\n",
      "    actual_range:  [-2458.27709961 -2303.90185547]\n"
     ]
    }
   ],
   "source": [
    "from app.externalresources.reader_LokiCastle import ReaderLokiCastle\n",
    "\n",
    "r = ReaderLokiCastle(1)\n",
    "r.netcdf_to_dataarray()\n",
    "ds = r.get_dataarray()\n",
    "print(ds)"
   ]
  },
  {
   "cell_type": "markdown",
   "metadata": {},
   "source": [
    "#### Render Map"
   ]
  },
  {
   "cell_type": "code",
   "execution_count": 3,
   "metadata": {},
   "outputs": [
    {
     "data": {
      "application/vnd.jupyter.widget-view+json": {
       "model_id": "33c5cb2e4c0f4a1c8eb82c8b5d87d66b",
       "version_major": 2,
       "version_minor": 0
      },
      "text/plain": [
       "interactive(children=(ToggleButtons(description='Map zoom:', options=('100%', '200%', '300%'), tooltips=('Desc…"
      ]
     },
     "metadata": {},
     "output_type": "display_data"
    },
    {
     "data": {
      "text/plain": [
       "<function __main__.update_map(res, m_limit)>"
      ]
     },
     "execution_count": 3,
     "metadata": {},
     "output_type": "execute_result"
    }
   ],
   "source": [
    "import ipywidgets\n",
    "from ipyleaflet import basemaps, Map\n",
    "from datetime import datetime\n",
    "import xarray as xr\n",
    "\n",
    "\n",
    "memory_limit = ipywidgets.IntSlider(value=30, min=10, max=150, step=10, style={\n",
    "                                    'description_width': 'initial'}, description='Memory limit(MB)', unit='MB')\n",
    "\n",
    "resolution = ipywidgets.ToggleButtons(\n",
    "    options=['100%', '200%', '300%'],\n",
    "    description='Map zoom:',\n",
    "    disabled=False,\n",
    "    value='100%',\n",
    "    button_style='',  # 'success', 'info', 'warning', 'danger' or ''\n",
    "    tooltips=['Description of slow',\n",
    "              'Description of regular', 'Description of fast'],\n",
    "    #     icons=['check'] * 3\n",
    "\n",
    ")\n",
    "\n",
    "# current map center (Bergen)\n",
    "c = (60.397076, 5.324383)\n",
    "lon = ds.lon.actual_range\n",
    "lat = ds.lat.actual_range\n",
    "\n",
    "sw = (lat[0], lon[0])\n",
    "ne = (lat[1], lon[1])\n",
    "\n",
    "# maxBounds=(sw,ne)\n",
    "m = Map(basemap=basemaps.Esri.WorldTopoMap)\n",
    "m.fit_bounds((sw, ne))\n",
    "init_zoom = m.zoom\n",
    "\n",
    "\n",
    "def update_map(res, m_limit):\n",
    "    if res == '100%':\n",
    "\n",
    "        # m.fit_bounds(bnd)\n",
    "        # m.setMaxBounds(bnd)\n",
    "        #m.bounds = ()\n",
    "        print('init')\n",
    "        m.fit_bounds((sw, ne))\n",
    "        pass\n",
    "    if res == '200%':\n",
    "        #m.fit_bounds(bnd)\n",
    "        m.zoom = init_zoom + 4\n",
    "\n",
    "        \n",
    "        # send boundingbox of mapview to backend\n",
    "        # render new dataset\n",
    "\n",
    "    if res == '300%':\n",
    "        m.zoom = init_zoom + 8\n",
    "      \n",
    "    display(m)\n",
    "\n",
    "\n",
    "ipywidgets.interact(update_map, res=resolution, m_limit=memory_limit)\n",
    "# ipywidgets.interact()\n",
    "#ipywidgets.interact(demo, txt=res)\n"
   ]
  }
 ],
 "metadata": {
  "interpreter": {
   "hash": "aebbdfc6aa06eaa162ce0fe2477883455d1cd47ed4782f83b429bbd98a6e3fd1"
  },
  "kernelspec": {
   "display_name": "Python 3.9.12 ('master-app')",
   "language": "python",
   "name": "python3"
  },
  "language_info": {
   "codemirror_mode": {
    "name": "ipython",
    "version": 3
   },
   "file_extension": ".py",
   "mimetype": "text/x-python",
   "name": "python",
   "nbconvert_exporter": "python",
   "pygments_lexer": "ipython3",
   "version": "3.9.12"
  },
  "orig_nbformat": 4
 },
 "nbformat": 4,
 "nbformat_minor": 2
}
