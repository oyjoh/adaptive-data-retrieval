{
 "cells": [
  {
   "cell_type": "markdown",
   "metadata": {},
   "source": [
    "### work with the netCDF client-side"
   ]
  },
  {
   "cell_type": "code",
   "execution_count": 5,
   "metadata": {},
   "outputs": [],
   "source": [
    "from app.dataprocessing.local.local_netcdf_reader import LocalNetcdfReader\n",
    "from app.datastructures.two_dimensional.quad_tree import QuadTree\n",
    "import matplotlib.pyplot as plt\n",
    "\n",
    "r = LocalNetcdfReader(2)\n",
    "tree = QuadTree(max_chunk_size=50, original_file_size=7470,\n",
    "                dataset=r.get_dataset())\n"
   ]
  },
  {
   "cell_type": "code",
   "execution_count": 6,
   "metadata": {},
   "outputs": [
    {
     "name": "stdout",
     "output_type": "stream",
     "text": [
      "<xarray.DataArray 'elevation' (lat: 3324, lon: 6647)>\n",
      "[22094628 values with dtype=int16]\n",
      "Coordinates:\n",
      "  * lon      (lon) float64 -180.0 -179.9 -179.9 -179.8 ... 179.9 179.9 180.0\n",
      "  * lat      (lat) float64 -90.0 -89.94 -89.89 -89.84 ... 89.84 89.89 89.94 90.0\n",
      "Attributes:\n",
      "    standard_name:       height_above_mean_sea_level\n",
      "    long_name:           Elevation relative to sea level\n",
      "    units:               m\n",
      "    grid_mapping:        crs\n",
      "    sdn_parameter_urn:   SDN:P01::ALATZZ01\n",
      "    sdn_parameter_name:  Sea floor height (above mean sea level) {bathymetric...\n",
      "    sdn_uom_urn:         SDN:P06::ULAA\n",
      "    sdn_uom_name:        Metres\n",
      "((-89.99791666666667, 89.99791666666667), (-179.99791666666667, 179.99374999999998))\n"
     ]
    }
   ],
   "source": [
    "ds, c_bounds = tree.get_initial_dataset()\n",
    "\n",
    "# use the elevation variable in the plot\n",
    "init = ds['elevation']\n",
    "\n",
    "print(init)\n",
    "print(c_bounds)\n",
    "\n",
    "plt.imsave('dashboard_render.png', arr=init, origin='lower')\n"
   ]
  },
  {
   "cell_type": "code",
   "execution_count": 7,
   "metadata": {},
   "outputs": [],
   "source": [
    "# ((lat_min, lat_max),(lon_min, lon_max)) to ((sw), (ne))\n",
    "def convert_bounds(b):\n",
    "    lat_min = b[0][0]\n",
    "    lat_max = b[0][1]\n",
    "    lon_min = b[1][0]\n",
    "    lon_max = b[1][1]\n",
    "\n",
    "    res = ((lat_min, lon_min), (lat_max, lon_max))\n",
    "    return res\n"
   ]
  },
  {
   "cell_type": "markdown",
   "metadata": {},
   "source": [
    "#### Render Map"
   ]
  },
  {
   "cell_type": "code",
   "execution_count": null,
   "metadata": {},
   "outputs": [],
   "source": [
    "import ipywidgets\n",
    "from ipywidgets import Layout\n",
    "from ipyleaflet import basemaps, Map, ImageOverlay\n",
    "from datetime import datetime\n",
    "import xarray as xr\n",
    "\n",
    "button = ipywidgets.Button(\n",
    "    description='Render'\n",
    ")\n",
    "m = Map(basemap=basemaps.Esri.WorldTopoMap, layout=Layout(width='50%'), zoom = 2)\n",
    "#m.fit_bounds(convert_bounds(c_bounds))\n",
    "\n",
    "print(f'bounds:::: {convert_bounds(c_bounds)}')\n",
    "\n",
    "# init layer\n",
    "image = ImageOverlay(\n",
    "    url='dashboard_render.png',\n",
    "    bounds=convert_bounds(c_bounds),\n",
    "    opacity=0.4\n",
    ")\n",
    "# m.add_layer(image)\n",
    "\n",
    "\n",
    "output = ipywidgets.Output()\n",
    "display(button, output, m)\n",
    "\n",
    "\n",
    "def render(t):\n",
    "    id = str(datetime.now())[-6:]\n",
    "\n",
    "    b = m.bounds\n",
    "    api_bounds = ((b[0][0], b[1][0]), (b[0][1], b[1][1]))\n",
    "    with output:\n",
    "        print(f'start new render on: {api_bounds}')\n",
    "\n",
    "    ds, c_bounds = tree.request_data_m_c(api_bounds, fit_bounds = True)\n",
    "    with output:\n",
    "        #print(ds)\n",
    "        print(f'actual bounds: {c_bounds}')\n",
    "    ds = ds['elevation']\n",
    "\n",
    "    with output:\n",
    "        pass\n",
    "    plt.imsave(f'dashboard_render{id}.png', arr=ds, origin='lower')\n",
    "\n",
    "    image = ImageOverlay(\n",
    "        url=f'dashboard_render{id}.png',\n",
    "        bounds=convert_bounds(c_bounds),\n",
    "        opacity=1\n",
    "    )\n",
    "    m.add_layer(image)\n",
    "    with output:\n",
    "        pass\n",
    "        #print('render done')\n",
    "\n",
    "\n",
    "button.on_click(render)\n"
   ]
  }
 ],
 "metadata": {
  "interpreter": {
   "hash": "aebbdfc6aa06eaa162ce0fe2477883455d1cd47ed4782f83b429bbd98a6e3fd1"
  },
  "kernelspec": {
   "display_name": "Python 3.9.12 ('master-app')",
   "language": "python",
   "name": "python3"
  },
  "language_info": {
   "codemirror_mode": {
    "name": "ipython",
    "version": 3
   },
   "file_extension": ".py",
   "mimetype": "text/x-python",
   "name": "python",
   "nbconvert_exporter": "python",
   "pygments_lexer": "ipython3",
   "version": "3.9.12"
  },
  "orig_nbformat": 4
 },
 "nbformat": 4,
 "nbformat_minor": 2
}
