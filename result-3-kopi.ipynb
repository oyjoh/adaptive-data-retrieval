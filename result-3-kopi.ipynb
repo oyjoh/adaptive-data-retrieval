{
 "cells": [
  {
   "cell_type": "code",
   "execution_count": 27,
   "metadata": {},
   "outputs": [],
   "source": [
    "from app.dataprocessing.data_handler import DataHandler\n",
    "from app.dataprocessing.benchmark import plt_img, save_simple_img, demo_plt_img\n",
    "from app.datastructures.datastructure_interface import get_ipyleaflet_bounds\n",
    "from app.dataprocessing.benchmark import Stopwatch\n",
    "from dotenv import load_dotenv\n",
    "\n",
    "import numpy as np\n",
    "import os\n"
   ]
  },
  {
   "cell_type": "code",
   "execution_count": 28,
   "metadata": {},
   "outputs": [],
   "source": [
    "def setup(c_size, struct):\n",
    "    data_handler = DataHandler()\n",
    "    data_handler.set_max_chunk_size(c_size)\n",
    "\n",
    "    load_dotenv()\n",
    "    USERNAME = os.environ.get(\"CMEMS_CAS_USERNAME\")\n",
    "    PASSWORD = os.environ.get(\"CMEMS_CAS_PASSWORD\")\n",
    "\n",
    "    dataset_url = 'https://nrt.cmems-du.eu/thredds/dodsC/global-analysis-forecast-phy-001-024-monthly'\n",
    "    cas_url = \"https://cmems-cas.cls.fr/cas/login\"\n",
    "\n",
    "    #constraints = {'time' : 19, 'depth':0}\n",
    "    constraints = {'depth':0}\n",
    "\n",
    "    # pre-compute file size once to avoid excessive server calls\n",
    "    data_handler.set_opendap_cas(cas_url, dataset_url, USERNAME, PASSWORD, constraints=constraints, struct=struct, file_size=5738)\n",
    "\n",
    "\n",
    "    # Show the auto-selected data structure\n",
    "    print(f\"Data structure in use: {data_handler.data_structure}\")\n",
    "    return data_handler"
   ]
  },
  {
   "cell_type": "code",
   "execution_count": 29,
   "metadata": {},
   "outputs": [
    {
     "name": "stdout",
     "output_type": "stream",
     "text": [
      "Data structure in use: Octree with 512 chunks of maximum size 50MB\n",
      "file size estimate: 5738\n"
     ]
    }
   ],
   "source": [
    "data_handler = setup(50, \"Octree\")\n",
    "print(f'file size estimate: {data_handler.data_source.file_size_MB}')"
   ]
  },
  {
   "cell_type": "code",
   "execution_count": 30,
   "metadata": {},
   "outputs": [],
   "source": [
    "time_stamp = (np.datetime64('2020-01-01'), np.datetime64('2020-01-26'))\n",
    "\n",
    "query_1 = ((-90, 90), (-180, 180), time_stamp)\n",
    "query_2 = ((-74.09, -3.78), (-155.45, -56.49), time_stamp)\n",
    "query_3 = ((-40.46, -5.30), (-68.70, -19.21), time_stamp)\n",
    "query_4 = ((-9.20, -0.41), (-88.42, -76.05), time_stamp)\n",
    "\n",
    "sequence = [query_1, query_2, query_3, query_4]\n",
    "sizes = [10, 50, 100]\n",
    "structs = [\"Octree\", \"KDTree\"]"
   ]
  },
  {
   "cell_type": "code",
   "execution_count": 31,
   "metadata": {},
   "outputs": [
    {
     "name": "stdout",
     "output_type": "stream",
     "text": [
      "----------------------------\n",
      "Octree with chunksize: 10\n",
      "Data structure in use: Octree with 4096 chunks of maximum size 10MB\n",
      "--- step 0 ---\n",
      "query bounds: ((-90, 90), (-180, 180), (numpy.datetime64('2020-01-01'), numpy.datetime64('2020-01-26')))\n",
      "--- step 1 ---\n",
      "query bounds: ((-74.09, -3.78), (-155.45, -56.49), (numpy.datetime64('2020-01-01'), numpy.datetime64('2020-01-26')))\n",
      "--- step 2 ---\n",
      "query bounds: ((-40.46, -5.3), (-68.7, -19.21), (numpy.datetime64('2020-01-01'), numpy.datetime64('2020-01-26')))\n",
      "--- step 3 ---\n",
      "query bounds: ((-9.2, -0.41), (-88.42, -76.05), (numpy.datetime64('2020-01-01'), numpy.datetime64('2020-01-26')))\n",
      "----------------------------\n",
      "Octree with chunksize: 50\n",
      "Data structure in use: Octree with 512 chunks of maximum size 50MB\n",
      "--- step 0 ---\n",
      "query bounds: ((-90, 90), (-180, 180), (numpy.datetime64('2020-01-01'), numpy.datetime64('2020-01-26')))\n",
      "--- step 1 ---\n",
      "query bounds: ((-74.09, -3.78), (-155.45, -56.49), (numpy.datetime64('2020-01-01'), numpy.datetime64('2020-01-26')))\n",
      "--- step 2 ---\n",
      "query bounds: ((-40.46, -5.3), (-68.7, -19.21), (numpy.datetime64('2020-01-01'), numpy.datetime64('2020-01-26')))\n",
      "--- step 3 ---\n",
      "query bounds: ((-9.2, -0.41), (-88.42, -76.05), (numpy.datetime64('2020-01-01'), numpy.datetime64('2020-01-26')))\n",
      "----------------------------\n",
      "Octree with chunksize: 100\n",
      "Data structure in use: Octree with 64 chunks of maximum size 100MB\n",
      "--- step 0 ---\n",
      "query bounds: ((-90, 90), (-180, 180), (numpy.datetime64('2020-01-01'), numpy.datetime64('2020-01-26')))\n",
      "--- step 1 ---\n",
      "query bounds: ((-74.09, -3.78), (-155.45, -56.49), (numpy.datetime64('2020-01-01'), numpy.datetime64('2020-01-26')))\n",
      "--- step 2 ---\n",
      "query bounds: ((-40.46, -5.3), (-68.7, -19.21), (numpy.datetime64('2020-01-01'), numpy.datetime64('2020-01-26')))\n",
      "--- step 3 ---\n",
      "query bounds: ((-9.2, -0.41), (-88.42, -76.05), (numpy.datetime64('2020-01-01'), numpy.datetime64('2020-01-26')))\n",
      "----------------------------\n",
      "KDTree with chunksize: 10\n",
      "Data structure in use: KDTree with 1024 leaf nodes of maximum size 10MB\n",
      "--- step 0 ---\n",
      "query bounds: ((-90, 90), (-180, 180), (numpy.datetime64('2020-01-01'), numpy.datetime64('2020-01-26')))\n"
     ]
    },
    {
     "ename": "KeyboardInterrupt",
     "evalue": "",
     "output_type": "error",
     "traceback": [
      "\u001b[0;31m---------------------------------------------------------------------------\u001b[0m",
      "\u001b[0;31mKeyboardInterrupt\u001b[0m                         Traceback (most recent call last)",
      "\u001b[1;32m/Users/oyvindjohannessen/local-master/Software/master-app/result-3.ipynb Cell 5\u001b[0m in \u001b[0;36m<cell line: 4>\u001b[0;34m()\u001b[0m\n\u001b[1;32m     <a href='vscode-notebook-cell:/Users/oyvindjohannessen/local-master/Software/master-app/result-3.ipynb#W4sZmlsZQ%3D%3D?line=13'>14</a>\u001b[0m timer \u001b[39m=\u001b[39m Stopwatch()\n\u001b[1;32m     <a href='vscode-notebook-cell:/Users/oyvindjohannessen/local-master/Software/master-app/result-3.ipynb#W4sZmlsZQ%3D%3D?line=14'>15</a>\u001b[0m timer\u001b[39m.\u001b[39mstart(\u001b[39m\"\u001b[39m\u001b[39mFetch netCDF chunk\u001b[39m\u001b[39m\"\u001b[39m)\n\u001b[0;32m---> <a href='vscode-notebook-cell:/Users/oyvindjohannessen/local-master/Software/master-app/result-3.ipynb#W4sZmlsZQ%3D%3D?line=15'>16</a>\u001b[0m file_name, bounds, node \u001b[39m=\u001b[39m data_handler\u001b[39m.\u001b[39;49mrequest_data_netcdf(\n\u001b[1;32m     <a href='vscode-notebook-cell:/Users/oyvindjohannessen/local-master/Software/master-app/result-3.ipynb#W4sZmlsZQ%3D%3D?line=16'>17</a>\u001b[0m     s, return_xr_chunk\u001b[39m=\u001b[39;49m\u001b[39mTrue\u001b[39;49;00m\n\u001b[1;32m     <a href='vscode-notebook-cell:/Users/oyvindjohannessen/local-master/Software/master-app/result-3.ipynb#W4sZmlsZQ%3D%3D?line=17'>18</a>\u001b[0m )\n\u001b[1;32m     <a href='vscode-notebook-cell:/Users/oyvindjohannessen/local-master/Software/master-app/result-3.ipynb#W4sZmlsZQ%3D%3D?line=18'>19</a>\u001b[0m fetch_time \u001b[39m=\u001b[39m timer\u001b[39m.\u001b[39malt_stop()\n\u001b[1;32m     <a href='vscode-notebook-cell:/Users/oyvindjohannessen/local-master/Software/master-app/result-3.ipynb#W4sZmlsZQ%3D%3D?line=19'>20</a>\u001b[0m fetch_time \u001b[39m=\u001b[39m \u001b[39mf\u001b[39m\u001b[39m\"\u001b[39m\u001b[39m{\u001b[39;00mfetch_time\u001b[39m:\u001b[39;00m\u001b[39m0.4f\u001b[39m\u001b[39m}\u001b[39;00m\u001b[39m\"\u001b[39m\n",
      "File \u001b[0;32m~/local-master/Software/master-app/app/dataprocessing/data_handler.py:111\u001b[0m, in \u001b[0;36mDataHandler.request_data_netcdf\u001b[0;34m(self, bounds, return_xr_chunk, fit_bounds)\u001b[0m\n\u001b[1;32m    110\u001b[0m \u001b[39mdef\u001b[39;00m \u001b[39mrequest_data_netcdf\u001b[39m(\u001b[39mself\u001b[39m, bounds, return_xr_chunk\u001b[39m=\u001b[39m\u001b[39mFalse\u001b[39;00m, fit_bounds\u001b[39m=\u001b[39m\u001b[39mFalse\u001b[39;00m):\n\u001b[0;32m--> 111\u001b[0m     ds, bounds, node \u001b[39m=\u001b[39m \u001b[39mself\u001b[39;49m\u001b[39m.\u001b[39;49mdata_structure\u001b[39m.\u001b[39;49mrequest_data_single_chunk(\n\u001b[1;32m    112\u001b[0m         bounds, fit_bounds\u001b[39m=\u001b[39;49mfit_bounds\n\u001b[1;32m    113\u001b[0m     )\n\u001b[1;32m    115\u001b[0m     file_name \u001b[39m=\u001b[39m \u001b[39m\"\u001b[39m\u001b[39mtmp/nc/data_\u001b[39m\u001b[39m\"\u001b[39m \u001b[39m+\u001b[39m \u001b[39mstr\u001b[39m(time\u001b[39m.\u001b[39mtime())[\u001b[39m-\u001b[39m\u001b[39m5\u001b[39m:] \u001b[39m+\u001b[39m \u001b[39m\"\u001b[39m\u001b[39m.nc\u001b[39m\u001b[39m\"\u001b[39m  \u001b[39m# TODO: revisit.\u001b[39;00m\n\u001b[1;32m    117\u001b[0m     ds\u001b[39m.\u001b[39mto_netcdf(file_name)\n",
      "File \u001b[0;32m~/local-master/Software/master-app/app/datastructures/n_dimensional/kd_tree.py:165\u001b[0m, in \u001b[0;36mKDTree.request_data_single_chunk\u001b[0;34m(self, bounds, fit_bounds)\u001b[0m\n\u001b[1;32m    161\u001b[0m     bounds \u001b[39m=\u001b[39m {\u001b[39m\"\u001b[39m\u001b[39mlat\u001b[39m\u001b[39m\"\u001b[39m: (lat_min, lat_max), \u001b[39m\"\u001b[39m\u001b[39mlon\u001b[39m\u001b[39m\"\u001b[39m: (lon_min, lon_max)}\n\u001b[1;32m    163\u001b[0m cur_chunk \u001b[39m=\u001b[39m \u001b[39mself\u001b[39m\u001b[39m.\u001b[39mroot\n\u001b[0;32m--> 165\u001b[0m \u001b[39mwhile\u001b[39;00m cur_chunk\u001b[39m.\u001b[39;49mleft \u001b[39mis\u001b[39;00m \u001b[39mnot\u001b[39;00m \u001b[39mNone\u001b[39;00m \u001b[39mand\u001b[39;00m cur_chunk\u001b[39m.\u001b[39mright \u001b[39mis\u001b[39;00m \u001b[39mnot\u001b[39;00m \u001b[39mNone\u001b[39;00m:\n\u001b[1;32m    166\u001b[0m     \u001b[39m# print(f\"s dim: {cur_chunk.split_dim}\")\u001b[39;00m\n\u001b[1;32m    167\u001b[0m     \u001b[39m# print(f\"bnd {bounds}\")\u001b[39;00m\n\u001b[1;32m    168\u001b[0m     \u001b[39mif\u001b[39;00m cur_chunk\u001b[39m.\u001b[39msplit_dim \u001b[39min\u001b[39;00m bounds:\n\u001b[1;32m    169\u001b[0m         \u001b[39mif\u001b[39;00m bounds[cur_chunk\u001b[39m.\u001b[39msplit_dim][\u001b[39m1\u001b[39m] \u001b[39m<\u001b[39m cur_chunk\u001b[39m.\u001b[39msplit_val:\n",
      "\u001b[0;31mKeyboardInterrupt\u001b[0m: "
     ]
    }
   ],
   "source": [
    "overleaf_meta_log = []\n",
    "overleaf_data_log = []\n",
    "\n",
    "for struct in structs:\n",
    "    for size in sizes:\n",
    "        print(f\"----------------------------\")\n",
    "        print(f\"{struct} with chunksize: {size}\")\n",
    "        overleaf_meta_log.append((struct, size))\n",
    "        data_handler = setup(size, struct)\n",
    "        for idx, s in enumerate(sequence):\n",
    "            print(f\"--- step {idx} ---\")\n",
    "            print(f\"query bounds: {s}\")\n",
    "\n",
    "            timer = Stopwatch()\n",
    "            timer.start(\"Fetch netCDF chunk\")\n",
    "            file_name, bounds, node = data_handler.request_data_netcdf(\n",
    "                s, return_xr_chunk=True\n",
    "            )\n",
    "            fetch_time = timer.alt_stop()\n",
    "            fetch_time = f\"{fetch_time:0.4f}\"\n",
    "\n",
    "            p_bounds = f\"({bounds[0][0].values:.2f}, {bounds[0][1].values:.2f}), ({bounds[1][0].values:.2f}, {bounds[1][1].values:.2f}), ({str(bounds[2][0].values)[:10]}, {str(bounds[2][1].values)[:10]})\"\n",
    "\n",
    "            overleaf_data_log.append(\n",
    "                (\n",
    "                    p_bounds,\n",
    "                    f\"{data_handler.get_node_resolution(node):.2f}\",\n",
    "                    f\"{data_handler.get_file_size_MB(file_name):.2f}\",\n",
    "                    fetch_time,\n",
    "                )\n",
    "            )\n"
   ]
  },
  {
   "cell_type": "code",
   "execution_count": null,
   "metadata": {},
   "outputs": [],
   "source": [
    "idx = 0\n",
    "\n",
    "for st, sz in overleaf_meta_log:\n",
    "    print(\"\\hline\")\n",
    "    print(f\"\\multicolumn{{5}}{{|c|}}{{{st}({sz})}} \\\\\\\\\")\n",
    "    print(\"\\hline\")\n",
    "    print(\n",
    "        \"No. & Response bounds & Resolution & File size(MB) & Time(10 run avg.) \\\\\\\\\"\n",
    "    )\n",
    "    print(\"\\hline\")\n",
    "    for i in range(1, 5):\n",
    "        print(\n",
    "            f\"{i} & {overleaf_data_log[idx][0]} & {overleaf_data_log[idx][1]}\\% & {overleaf_data_log[idx][2]} & {overleaf_data_log[idx][3]} \\\\\\\\\"\n",
    "        )\n",
    "        idx += 1\n",
    "    print(\"\\hline\")\n",
    "    print(f\"\\multicolumn{{5}}{{c}}{{}} \\\\\\\\\")"
   ]
  }
 ],
 "metadata": {
  "kernelspec": {
   "display_name": "Python 3.9.12 ('master-app')",
   "language": "python",
   "name": "python3"
  },
  "language_info": {
   "codemirror_mode": {
    "name": "ipython",
    "version": 3
   },
   "file_extension": ".py",
   "mimetype": "text/x-python",
   "name": "python",
   "nbconvert_exporter": "python",
   "pygments_lexer": "ipython3",
   "version": "3.9.12"
  },
  "orig_nbformat": 4,
  "vscode": {
   "interpreter": {
    "hash": "aebbdfc6aa06eaa162ce0fe2477883455d1cd47ed4782f83b429bbd98a6e3fd1"
   }
  }
 },
 "nbformat": 4,
 "nbformat_minor": 2
}
